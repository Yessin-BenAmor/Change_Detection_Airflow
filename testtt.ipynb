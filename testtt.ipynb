{
 "cells": [
  {
   "cell_type": "code",
   "execution_count": null,
   "id": "3e66fc3f",
   "metadata": {},
   "outputs": [],
   "source": [
    "# import ee "
   ]
  },
  {
   "cell_type": "code",
   "execution_count": null,
   "id": "78d0789b",
   "metadata": {},
   "outputs": [],
   "source": [
    "# import ee\n",
    "\n",
    "# # Path to your service account key JSON\n",
    "# SERVICE_ACCOUNT_KEY_PATH = '/home/user/airflow/keys/gee-service-account.json'\n",
    "\n",
    "# def init_earth_engine():\n",
    "#     \"\"\"\n",
    "#     Initializes Earth Engine with service account credentials.\n",
    "#     \"\"\"\n",
    "#     credentials = ee.ServiceAccountCredentials(\n",
    "#         private_key='python@arctic-pad-420915.iam.gserviceaccount.com',\n",
    "#         key_file=SERVICE_ACCOUNT_KEY_PATH\n",
    "#     )\n",
    "#     ee.Initialize(credentials)\n"
   ]
  },
  {
   "cell_type": "code",
   "execution_count": 3,
   "id": "f5672541",
   "metadata": {},
   "outputs": [
    {
     "ename": "TypeError",
     "evalue": "ServiceAccountCredentials() got an unexpected keyword argument 'service_account'",
     "output_type": "error",
     "traceback": [
      "\u001b[31m---------------------------------------------------------------------------\u001b[39m",
      "\u001b[31mTypeError\u001b[39m                                 Traceback (most recent call last)",
      "\u001b[36mCell\u001b[39m\u001b[36m \u001b[39m\u001b[32mIn[3]\u001b[39m\u001b[32m, line 1\u001b[39m\n\u001b[32m----> \u001b[39m\u001b[32m1\u001b[39m \u001b[43minit_earth_engine\u001b[49m\u001b[43m(\u001b[49m\u001b[43m)\u001b[49m\n",
      "\u001b[36mCell\u001b[39m\u001b[36m \u001b[39m\u001b[32mIn[2]\u001b[39m\u001b[32m, line 10\u001b[39m, in \u001b[36minit_earth_engine\u001b[39m\u001b[34m()\u001b[39m\n\u001b[32m      6\u001b[39m \u001b[38;5;28;01mdef\u001b[39;00m\u001b[38;5;250m \u001b[39m\u001b[34minit_earth_engine\u001b[39m():\n\u001b[32m      7\u001b[39m \u001b[38;5;250m    \u001b[39m\u001b[33;03m\"\"\"\u001b[39;00m\n\u001b[32m      8\u001b[39m \u001b[33;03m    Initializes Earth Engine with service account credentials.\u001b[39;00m\n\u001b[32m      9\u001b[39m \u001b[33;03m    \"\"\"\u001b[39;00m\n\u001b[32m---> \u001b[39m\u001b[32m10\u001b[39m     credentials = \u001b[43mee\u001b[49m\u001b[43m.\u001b[49m\u001b[43mServiceAccountCredentials\u001b[49m\u001b[43m(\u001b[49m\n\u001b[32m     11\u001b[39m \u001b[43m        \u001b[49m\u001b[43mservice_account\u001b[49m\u001b[43m=\u001b[49m\u001b[33;43m'\u001b[39;49m\u001b[33;43mpython@arctic-pad-420915.iam.gserviceaccount.com\u001b[39;49m\u001b[33;43m'\u001b[39;49m\u001b[43m,\u001b[49m\n\u001b[32m     12\u001b[39m \u001b[43m        \u001b[49m\u001b[43mkey_file\u001b[49m\u001b[43m=\u001b[49m\u001b[43mSERVICE_ACCOUNT_KEY_PATH\u001b[49m\n\u001b[32m     13\u001b[39m \u001b[43m    \u001b[49m\u001b[43m)\u001b[49m\n\u001b[32m     14\u001b[39m     ee.Initialize(credentials)\n",
      "\u001b[31mTypeError\u001b[39m: ServiceAccountCredentials() got an unexpected keyword argument 'service_account'"
     ]
    }
   ],
   "source": [
    "init_earth_engine()"
   ]
  },
  {
   "cell_type": "code",
   "execution_count": null,
   "id": "f3ffffa0",
   "metadata": {},
   "outputs": [],
   "source": []
  }
 ],
 "metadata": {
  "kernelspec": {
   "display_name": "airflow_venv_clean",
   "language": "python",
   "name": "python3"
  },
  "language_info": {
   "codemirror_mode": {
    "name": "ipython",
    "version": 3
   },
   "file_extension": ".py",
   "mimetype": "text/x-python",
   "name": "python",
   "nbconvert_exporter": "python",
   "pygments_lexer": "ipython3",
   "version": "3.12.3"
  }
 },
 "nbformat": 4,
 "nbformat_minor": 5
}
